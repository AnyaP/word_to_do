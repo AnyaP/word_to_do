{
 "cells": [
  {
   "cell_type": "code",
   "execution_count": 1,
   "metadata": {
    "collapsed": true
   },
   "outputs": [],
   "source": [
    "%matplotlib inline\n",
    "import glob\n",
    "import matplotlib.pyplot as plt\n",
    "import artm\n",
    "import codecs\n",
    "import sys\n",
    "import scipy\n",
    "import numpy as np\n",
    "import pandas as pd\n",
    "import sklearn\n",
    "from sklearn import metrics\n",
    "from scipy.sparse import csr_matrix\n",
    "from scipy.stats import spearmanr\n",
    "from collections import defaultdict"
   ]
  },
  {
   "cell_type": "markdown",
   "metadata": {},
   "source": [
    "## Similarity evaluation helpers"
   ]
  },
  {
   "cell_type": "code",
   "execution_count": 2,
   "metadata": {
    "collapsed": true
   },
   "outputs": [],
   "source": [
    "TESTSETS_FOLDER = './testsets/ws/'\n",
    "\n",
    "testsets = [(\"ws353_sim\", TESTSETS_FOLDER + 'ws353_similarity.txt'),\n",
    "            (\"ws353_rel\", TESTSETS_FOLDER + 'ws353_relatedness.txt'),\n",
    "            (\"ws353\", TESTSETS_FOLDER + 'ws353.txt'),\n",
    "            (\"simlex999\", TESTSETS_FOLDER + 'simlex_999.txt'),\n",
    "            (\"bruni_men\", TESTSETS_FOLDER + 'bruni_men.txt'),\n",
    "            (\"luong_rare\", TESTSETS_FOLDER + 'luong_rare.txt'),\n",
    "            (\"mturk\", TESTSETS_FOLDER + 'radinsky_mturk.txt')]"
   ]
  },
  {
   "cell_type": "code",
   "execution_count": 3,
   "metadata": {
    "collapsed": true
   },
   "outputs": [],
   "source": [
    "TESTSETS_FOLDER = './testsets/ws/russian/'\n",
    "\n",
    "russian_testsets = [(\"ws353_sim\", TESTSETS_FOLDER + 'hj-wordsim353-similarity.txt'),\n",
    "            (\"ws353_rel\", TESTSETS_FOLDER + 'hj-wordsim353-relatedness.txt'),\n",
    "            (\"hj\", TESTSETS_FOLDER + 'hj.txt'),\n",
    "            (\"simlex999\", TESTSETS_FOLDER + 'simlex-999.txt'),\n",
    "            (\"mj\", TESTSETS_FOLDER + 'mj.txt')]"
   ]
  },
  {
   "cell_type": "code",
   "execution_count": 4,
   "metadata": {
    "collapsed": true
   },
   "outputs": [],
   "source": [
    "def load_human_ratings(path, words):\n",
    "    \"\"\" \n",
    "    Loads word pair similarities provided by humans.\n",
    "    \n",
    "    Args:\n",
    "      path (string): full path to the file with [word word similarity] lines.\n",
    "      words (dict): vocabulary of words. The similarities are loaded \n",
    "        only for words pairs covered by the vocabulary. \n",
    "        \n",
    "    Returns:\n",
    "      human_ratings (dict): mapping from a tuple of words to their similarity.\n",
    "      coverage (float): a ratio of word pairs covered by the vocabulary.\n",
    "    \"\"\"\n",
    "    \n",
    "    human_ratings = {}\n",
    "    added = 0\n",
    "    total = 0\n",
    "    with codecs.open(path, encoding='utf-8') as fin:\n",
    "        for line in fin:\n",
    "            (word1, word2, sim) = line.split()\n",
    "            total += 1\n",
    "            if word1 in words and word2 in words:\n",
    "                human_ratings[(word1, word2)] = float(sim)\n",
    "                added += 1\n",
    "    return human_ratings, 1.0 * added / total\n",
    "\n",
    "\n",
    "def cos_sim(vec1, vec2):\n",
    "    return sklearn.metrics.pairwise.cosine_similarity(vec1.reshape(1, -1), vec2.reshape(1, -1))[0][0]\n",
    "\n",
    "def log_cos_sim(vec1, vec2, alpha=0.0000001):\n",
    "    vec1 = np.log(vec1 + alpha)\n",
    "    vec2 = np.log(vec2 + alpha)\n",
    "    return sklearn.metrics.pairwise.cosine_similarity(vec1.reshape(1, -1), vec2.reshape(1, -1))[0][0]\n",
    "\n",
    "def dot_sim(vec1, vec2):\n",
    "    return vec1.dot(vec2)\n",
    "\n",
    "def hel_sim(vec1, vec2):\n",
    "    # One more sqrt and division by sqrt(2) omitted, minus added.\n",
    "    return -np.sum((np.sqrt(vec1) - np.sqrt(vec2)) ** 2)\n",
    "\n",
    "\n",
    "def evaluate_sim_task(human_ratings, embeddings_df, similarity_fn):\n",
    "    \"\"\"\n",
    "    Get Spearman correlation for human and model rankings.\n",
    "    \n",
    "    Args:\n",
    "      human_rating (dict): mapping from word tuples to their similarity.\n",
    "      embeddings_df (pandas dataframe): each row corresponds to a word vector.\n",
    "      similatity_fn (vec1, vec2 -> sim): computes similarity of two vectors.\n",
    "      \n",
    "    Returns:\n",
    "      Quality on the word similarity task (Spearman correlation).\n",
    "    \n",
    "    \"\"\"\n",
    "   \n",
    "    model_ratings = {key : similarity_fn(\n",
    "            embeddings_df.loc[key[0]], embeddings_df.loc[key[1]]) for key in human_ratings}\n",
    " \n",
    "    (sorted_keys, sorted_model) = zip(*sorted(model_ratings.items(), key=lambda x: -x[1]))\n",
    "    \n",
    "    return scipy.stats.spearmanr(sorted_model, [human_ratings[k] for k in sorted_keys])[0]"
   ]
  },
  {
   "cell_type": "code",
   "execution_count": 5,
   "metadata": {
    "collapsed": true
   },
   "outputs": [],
   "source": [
    "def similarity_report(testsets_list, embeddings_list, experiment_name):\n",
    "    \"\"\"\n",
    "    Produces a report for several testsets and for several embedding dataframes.\n",
    "    \n",
    "    It is assumed, that the vocabulary is the same for all compared embeddings\n",
    "    and can be infered e.g. as index of the first dataframe.\n",
    "    \n",
    "    Args:\n",
    "      testsets (dict): name-to-path mapping for word similarity testsets.\n",
    "      embeddings_list (list): list of (name, dataframe of embeddings) tuples.\n",
    "      experiment_name (string): a prefix for all rows in the produced report. \n",
    "    \n",
    "    \"\"\"\n",
    "    report = []\n",
    "    columns = []\n",
    "    vocabulary = embeddings_list[0][1].index\n",
    "    \n",
    "    for testset_name, testset_path in testsets_list:\n",
    "        human_ratings, _ = load_human_ratings(testset_path, vocabulary)\n",
    "        testset_report = [testset_name]\n",
    "        columns = [' ']\n",
    "        \n",
    "        for name, embeddings in embeddings_list:          \n",
    "            sim = evaluate_sim_task(human_ratings, embeddings, similarity_fn = dot_sim) \n",
    "            full_name = experiment_name + '_' + str(name) + '_' + 'dot'\n",
    "            testset_report += [sim]\n",
    "            columns += [full_name]\n",
    "\n",
    "        report.append(testset_report)\n",
    "        \n",
    "    report_df = pd.DataFrame(report, columns=columns)\n",
    "    return report_df.set_index(' ').transpose()"
   ]
  },
  {
   "cell_type": "code",
   "execution_count": null,
   "metadata": {
    "collapsed": true
   },
   "outputs": [],
   "source": []
  },
  {
   "cell_type": "markdown",
   "metadata": {},
   "source": [
    "## Evaluate embeddings from ARTM models"
   ]
  },
  {
   "cell_type": "code",
   "execution_count": 16,
   "metadata": {
    "collapsed": true
   },
   "outputs": [],
   "source": [
    "DATA_FOLDER = \"./\"\n",
    "VW_PATH = DATA_FOLDER + \"vw_counts_win5\" # \"vw_counts_sym\" \n",
    "BATCHES_FOLDER = DATA_FOLDER + \"batches_win5/\"  # \"batches_sym/\"\n",
    "MODELS_FOLDER = DATA_FOLDER + \"models/\""
   ]
  },
  {
   "cell_type": "code",
   "execution_count": 20,
   "metadata": {
    "collapsed": true
   },
   "outputs": [],
   "source": [
    "batch_vectorizer = artm.BatchVectorizer(data_path=BATCHES_FOLDER, data_format='batches')\n",
    "dictionary = artm.Dictionary()\n",
    "dictionary.load(dictionary_path=BATCHES_FOLDER + 'dictionary.dict')"
   ]
  },
  {
   "cell_type": "code",
   "execution_count": 18,
   "metadata": {
    "collapsed": false
   },
   "outputs": [],
   "source": [
    "model_name = \"wntm20btm20_t400_win5\"\n",
    "model_path = MODELS_FOLDER + model_name\n",
    "\n",
    "model = artm.ARTM(num_topics=400, dictionary=dictionary, ptd_name=\"ptd\",\n",
    "                cache_theta=True, reuse_theta=True, num_document_passes=1,\n",
    "                theta_columns_naming='title', num_processors=3)\n",
    "model.load(model_path)"
   ]
  },
  {
   "cell_type": "code",
   "execution_count": 21,
   "metadata": {
    "collapsed": false
   },
   "outputs": [],
   "source": [
    "model.fit_offline(batch_vectorizer=batch_vectorizer, num_collection_passes=1)\n",
    "nwt = model.get_phi(model_name = model.model_nwt)\n",
    "phibayes = nwt.div(nwt.sum(axis=1), axis=0)"
   ]
  },
  {
   "cell_type": "code",
   "execution_count": 34,
   "metadata": {
    "collapsed": false
   },
   "outputs": [
    {
     "name": "stdout",
     "output_type": "stream",
     "text": [
      "ws353_sim\n",
      "ws353_rel\n",
      "ws353\n",
      "simlex999\n",
      "bruni_men\n",
      "luong_rare\n",
      "mturk\n"
     ]
    }
   ],
   "source": [
    "report = similarity_report(testsets, [('phibayes', phibayes)], 'wntm20btm20')"
   ]
  },
  {
   "cell_type": "code",
   "execution_count": 35,
   "metadata": {
    "collapsed": false
   },
   "outputs": [
    {
     "data": {
      "text/html": [
       "<div>\n",
       "<table border=\"1\" class=\"dataframe\">\n",
       "  <thead>\n",
       "    <tr style=\"text-align: right;\">\n",
       "      <th></th>\n",
       "      <th>ws353_sim</th>\n",
       "      <th>ws353_rel</th>\n",
       "      <th>ws353</th>\n",
       "      <th>simlex999</th>\n",
       "      <th>bruni_men</th>\n",
       "      <th>luong_rare</th>\n",
       "      <th>mturk</th>\n",
       "    </tr>\n",
       "  </thead>\n",
       "  <tbody>\n",
       "    <tr>\n",
       "      <th>wntm20btm20_phibayes_dot</th>\n",
       "      <td>0.710578</td>\n",
       "      <td>0.645008</td>\n",
       "      <td>0.659756</td>\n",
       "      <td>0.264435</td>\n",
       "      <td>0.683269</td>\n",
       "      <td>0.353178</td>\n",
       "      <td>0.585874</td>\n",
       "    </tr>\n",
       "  </tbody>\n",
       "</table>\n",
       "</div>"
      ],
      "text/plain": [
       "                          ws353_sim  ws353_rel     ws353  simlex999  \\\n",
       "wntm20btm20_phibayes_dot   0.710578   0.645008  0.659756   0.264435   \n",
       "\n",
       "                          bruni_men  luong_rare     mturk  \n",
       "wntm20btm20_phibayes_dot   0.683269    0.353178  0.585874  "
      ]
     },
     "execution_count": 35,
     "metadata": {},
     "output_type": "execute_result"
    }
   ],
   "source": [
    "report"
   ]
  },
  {
   "cell_type": "markdown",
   "metadata": {},
   "source": [
    "## Evaluate embeddings from text format"
   ]
  },
  {
   "cell_type": "code",
   "execution_count": 92,
   "metadata": {
    "collapsed": false
   },
   "outputs": [
    {
     "name": "stdout",
     "output_type": "stream",
     "text": [
      "psd\n",
      "sgns.108\n"
     ]
    }
   ],
   "source": [
    "model_names = [\"psd\", \"sgns.108\"]\n",
    "embeddings_list = []\n",
    "\n",
    "for name in model_names:\n",
    "    print name\n",
    "    \n",
    "    embeddings_path = \"ruwiki.{}.256.text\".format(name)\n",
    "    list_of_vectors = [] \n",
    "    list_of_words = []\n",
    "\n",
    "    with codecs.open(embeddings_path, encoding='utf-8') as fin:\n",
    "        fin.readline() # skip the heading\n",
    "        for line in fin:\n",
    "            list_of_words.append(line.split()[0])\n",
    "            list_of_vectors.append([float(x) for x in line.split()[1:]])          \n",
    "            \n",
    "    df = pd.DataFrame(list_of_vectors)\n",
    "    df.index = list_of_words\n",
    "    df.head()\n",
    "    \n",
    "    embeddings_list.append((name, df))\n",
    "    \n",
    "     \n",
    "report = similarity_report(russian_testsets, embeddings_list, 'ruwiki')"
   ]
  },
  {
   "cell_type": "code",
   "execution_count": 93,
   "metadata": {
    "collapsed": false
   },
   "outputs": [
    {
     "data": {
      "text/html": [
       "<div>\n",
       "<table border=\"1\" class=\"dataframe\">\n",
       "  <thead>\n",
       "    <tr style=\"text-align: right;\">\n",
       "      <th></th>\n",
       "      <th>ws353_sim</th>\n",
       "      <th>ws353_rel</th>\n",
       "      <th>hj</th>\n",
       "      <th>simlex999</th>\n",
       "      <th>mj</th>\n",
       "    </tr>\n",
       "  </thead>\n",
       "  <tbody>\n",
       "    <tr>\n",
       "      <th>ruwiki_psd_cos</th>\n",
       "      <td>0.515433</td>\n",
       "      <td>0.282588</td>\n",
       "      <td>0.424376</td>\n",
       "      <td>0.102496</td>\n",
       "      <td>0.668547</td>\n",
       "    </tr>\n",
       "    <tr>\n",
       "      <th>ruwiki_sgns.108_cos</th>\n",
       "      <td>0.643685</td>\n",
       "      <td>0.445040</td>\n",
       "      <td>0.582281</td>\n",
       "      <td>0.196755</td>\n",
       "      <td>0.761017</td>\n",
       "    </tr>\n",
       "  </tbody>\n",
       "</table>\n",
       "</div>"
      ],
      "text/plain": [
       "                     ws353_sim  ws353_rel        hj  simlex999        mj\n",
       "ruwiki_psd_cos        0.515433   0.282588  0.424376   0.102496  0.668547\n",
       "ruwiki_sgns.108_cos   0.643685   0.445040  0.582281   0.196755  0.761017"
      ]
     },
     "execution_count": 93,
     "metadata": {},
     "output_type": "execute_result"
    }
   ],
   "source": [
    "report"
   ]
  },
  {
   "cell_type": "code",
   "execution_count": 91,
   "metadata": {
    "collapsed": false
   },
   "outputs": [
    {
     "data": {
      "text/html": [
       "<div>\n",
       "<table border=\"1\" class=\"dataframe\">\n",
       "  <thead>\n",
       "    <tr style=\"text-align: right;\">\n",
       "      <th></th>\n",
       "      <th>ws353_sim</th>\n",
       "      <th>ws353_rel</th>\n",
       "      <th>hj</th>\n",
       "      <th>simlex999</th>\n",
       "      <th>mj</th>\n",
       "    </tr>\n",
       "  </thead>\n",
       "  <tbody>\n",
       "    <tr>\n",
       "      <th>ruwiki_psd_cos</th>\n",
       "      <td>0.515433</td>\n",
       "      <td>0.282588</td>\n",
       "      <td>0.424376</td>\n",
       "      <td>0.102496</td>\n",
       "      <td>0.668547</td>\n",
       "    </tr>\n",
       "    <tr>\n",
       "      <th>ruwiki_sgns_cos</th>\n",
       "      <td>0.655427</td>\n",
       "      <td>0.475853</td>\n",
       "      <td>0.595983</td>\n",
       "      <td>0.183367</td>\n",
       "      <td>0.761198</td>\n",
       "    </tr>\n",
       "    <tr>\n",
       "      <th>ruwiki_cbow_cos</th>\n",
       "      <td>0.574967</td>\n",
       "      <td>0.343933</td>\n",
       "      <td>0.492519</td>\n",
       "      <td>0.160844</td>\n",
       "      <td>0.735038</td>\n",
       "    </tr>\n",
       "  </tbody>\n",
       "</table>\n",
       "</div>"
      ],
      "text/plain": [
       "                 ws353_sim  ws353_rel        hj  simlex999        mj\n",
       "ruwiki_psd_cos    0.515433   0.282588  0.424376   0.102496  0.668547\n",
       "ruwiki_sgns_cos   0.655427   0.475853  0.595983   0.183367  0.761198\n",
       "ruwiki_cbow_cos   0.574967   0.343933  0.492519   0.160844  0.735038"
      ]
     },
     "execution_count": 91,
     "metadata": {},
     "output_type": "execute_result"
    }
   ],
   "source": [
    "report"
   ]
  },
  {
   "cell_type": "code",
   "execution_count": 73,
   "metadata": {
    "collapsed": false
   },
   "outputs": [],
   "source": [
    "report = similarity_report(russian_testsets, [('psd', psd_df)], 'wiki100k')"
   ]
  },
  {
   "cell_type": "code",
   "execution_count": 74,
   "metadata": {
    "collapsed": false
   },
   "outputs": [
    {
     "data": {
      "text/html": [
       "<div>\n",
       "<table border=\"1\" class=\"dataframe\">\n",
       "  <thead>\n",
       "    <tr style=\"text-align: right;\">\n",
       "      <th></th>\n",
       "      <th>ws353_sim</th>\n",
       "      <th>ws353_rel</th>\n",
       "      <th>hj</th>\n",
       "      <th>simlex999</th>\n",
       "      <th>mj</th>\n",
       "    </tr>\n",
       "  </thead>\n",
       "  <tbody>\n",
       "    <tr>\n",
       "      <th>wiki100k_psd_cos</th>\n",
       "      <td>0.515433</td>\n",
       "      <td>0.282588</td>\n",
       "      <td>0.424376</td>\n",
       "      <td>0.102496</td>\n",
       "      <td>0.668547</td>\n",
       "    </tr>\n",
       "  </tbody>\n",
       "</table>\n",
       "</div>"
      ],
      "text/plain": [
       "                  ws353_sim  ws353_rel        hj  simlex999        mj\n",
       "wiki100k_psd_cos   0.515433   0.282588  0.424376   0.102496  0.668547"
      ]
     },
     "execution_count": 74,
     "metadata": {},
     "output_type": "execute_result"
    }
   ],
   "source": [
    "report"
   ]
  },
  {
   "cell_type": "markdown",
   "metadata": {},
   "source": [
    "## Evaluate embeddings from sparse matrices"
   ]
  },
  {
   "cell_type": "code",
   "execution_count": 78,
   "metadata": {
    "collapsed": true
   },
   "outputs": [],
   "source": [
    "import pickle\n",
    "import json"
   ]
  },
  {
   "cell_type": "code",
   "execution_count": 77,
   "metadata": {
    "collapsed": true
   },
   "outputs": [],
   "source": [
    "with open(\"./thetaless/word_to_number_dict.txt\", 'rb') as fin:\n",
    "    smth = json.load(fin)\n",
    "    \n",
    "vocab = sorted(smth.items(), key=lambda x: x[1])\n",
    "vocab = zip(*vocab)[0]"
   ]
  },
  {
   "cell_type": "code",
   "execution_count": 79,
   "metadata": {
    "collapsed": true
   },
   "outputs": [],
   "source": [
    "model_names = ['plsa', 'plsa_honest', 'plsa_origin', 'plsa_semi_honest', 'tARTM', 'tARTM_cheat']"
   ]
  },
  {
   "cell_type": "code",
   "execution_count": 80,
   "metadata": {
    "collapsed": false
   },
   "outputs": [],
   "source": [
    "embeddings_list = []\n",
    "\n",
    "for name in model_names:\n",
    "    path = \"./thetaless/{}/exp_seed_777_topics_100_iters_60.pkl\".format(name) \n",
    "\n",
    "    with open(path, 'rb') as fin:\n",
    "        smth = pickle.load(fin)\n",
    "\n",
    "    nwt = pd.DataFrame(smth['n_tw']).transpose()\n",
    "    phibayes = nwt.div(nwt.sum(axis=1), axis=0)\n",
    "    phibayes.index = vocab\n",
    "    \n",
    "    embeddings_list.append((name, phibayes))\n",
    "    "
   ]
  },
  {
   "cell_type": "code",
   "execution_count": 84,
   "metadata": {
    "collapsed": false
   },
   "outputs": [
    {
     "data": {
      "text/html": [
       "<div>\n",
       "<table border=\"1\" class=\"dataframe\">\n",
       "  <thead>\n",
       "    <tr style=\"text-align: right;\">\n",
       "      <th></th>\n",
       "      <th>ws353_sim</th>\n",
       "      <th>ws353_rel</th>\n",
       "      <th>ws353</th>\n",
       "      <th>simlex999</th>\n",
       "      <th>bruni_men</th>\n",
       "      <th>luong_rare</th>\n",
       "      <th>mturk</th>\n",
       "    </tr>\n",
       "  </thead>\n",
       "  <tbody>\n",
       "    <tr>\n",
       "      <th>16.11_plsa_dot</th>\n",
       "      <td>0.491129</td>\n",
       "      <td>0.287254</td>\n",
       "      <td>0.395709</td>\n",
       "      <td>0.170076</td>\n",
       "      <td>0.436830</td>\n",
       "      <td>0.160368</td>\n",
       "      <td>0.376926</td>\n",
       "    </tr>\n",
       "    <tr>\n",
       "      <th>16.11_plsa_honest_dot</th>\n",
       "      <td>-0.004289</td>\n",
       "      <td>0.026125</td>\n",
       "      <td>0.036914</td>\n",
       "      <td>0.058451</td>\n",
       "      <td>0.021842</td>\n",
       "      <td>0.097006</td>\n",
       "      <td>-0.076658</td>\n",
       "    </tr>\n",
       "    <tr>\n",
       "      <th>16.11_plsa_origin_dot</th>\n",
       "      <td>0.632485</td>\n",
       "      <td>0.569386</td>\n",
       "      <td>0.579184</td>\n",
       "      <td>0.196975</td>\n",
       "      <td>0.607177</td>\n",
       "      <td>0.329449</td>\n",
       "      <td>0.536203</td>\n",
       "    </tr>\n",
       "    <tr>\n",
       "      <th>16.11_plsa_semi_honest_dot</th>\n",
       "      <td>0.476283</td>\n",
       "      <td>0.322395</td>\n",
       "      <td>0.415156</td>\n",
       "      <td>0.189769</td>\n",
       "      <td>0.421581</td>\n",
       "      <td>0.155193</td>\n",
       "      <td>0.351210</td>\n",
       "    </tr>\n",
       "    <tr>\n",
       "      <th>16.11_tARTM_dot</th>\n",
       "      <td>0.613224</td>\n",
       "      <td>0.504292</td>\n",
       "      <td>0.528853</td>\n",
       "      <td>0.181160</td>\n",
       "      <td>0.571371</td>\n",
       "      <td>0.279008</td>\n",
       "      <td>0.497393</td>\n",
       "    </tr>\n",
       "    <tr>\n",
       "      <th>16.11_tARTM_cheat_dot</th>\n",
       "      <td>0.121584</td>\n",
       "      <td>0.096382</td>\n",
       "      <td>0.098510</td>\n",
       "      <td>0.117648</td>\n",
       "      <td>0.129353</td>\n",
       "      <td>0.125946</td>\n",
       "      <td>0.050076</td>\n",
       "    </tr>\n",
       "  </tbody>\n",
       "</table>\n",
       "</div>"
      ],
      "text/plain": [
       "                            ws353_sim  ws353_rel     ws353  simlex999  \\\n",
       "16.11_plsa_dot               0.491129   0.287254  0.395709   0.170076   \n",
       "16.11_plsa_honest_dot       -0.004289   0.026125  0.036914   0.058451   \n",
       "16.11_plsa_origin_dot        0.632485   0.569386  0.579184   0.196975   \n",
       "16.11_plsa_semi_honest_dot   0.476283   0.322395  0.415156   0.189769   \n",
       "16.11_tARTM_dot              0.613224   0.504292  0.528853   0.181160   \n",
       "16.11_tARTM_cheat_dot        0.121584   0.096382  0.098510   0.117648   \n",
       "\n",
       "                            bruni_men  luong_rare     mturk  \n",
       "16.11_plsa_dot               0.436830    0.160368  0.376926  \n",
       "16.11_plsa_honest_dot        0.021842    0.097006 -0.076658  \n",
       "16.11_plsa_origin_dot        0.607177    0.329449  0.536203  \n",
       "16.11_plsa_semi_honest_dot   0.421581    0.155193  0.351210  \n",
       "16.11_tARTM_dot              0.571371    0.279008  0.497393  \n",
       "16.11_tARTM_cheat_dot        0.129353    0.125946  0.050076  "
      ]
     },
     "execution_count": 84,
     "metadata": {},
     "output_type": "execute_result"
    }
   ],
   "source": [
    "report = similarity_report(testsets, embeddings_list, '16.11')\n",
    "report\n",
    "\n",
    "# btm - 1, wntm - 3, tARTM - 5"
   ]
  },
  {
   "cell_type": "markdown",
   "metadata": {
    "collapsed": true
   },
   "source": [
    "## Evaluate embeddings from csv\n"
   ]
  },
  {
   "cell_type": "code",
   "execution_count": 91,
   "metadata": {
    "collapsed": false
   },
   "outputs": [],
   "source": [
    "green_phibayes = pd.read_csv(\"./green_phibayes.csv\", index_col=0)"
   ]
  },
  {
   "cell_type": "code",
   "execution_count": 92,
   "metadata": {
    "collapsed": false
   },
   "outputs": [
    {
     "data": {
      "text/plain": [
       "(99998, 400)"
      ]
     },
     "execution_count": 92,
     "metadata": {},
     "output_type": "execute_result"
    }
   ],
   "source": [
    "green_phibayes.shape"
   ]
  },
  {
   "cell_type": "code",
   "execution_count": 93,
   "metadata": {
    "collapsed": false
   },
   "outputs": [
    {
     "data": {
      "text/html": [
       "<div>\n",
       "<table border=\"1\" class=\"dataframe\">\n",
       "  <thead>\n",
       "    <tr style=\"text-align: right;\">\n",
       "      <th></th>\n",
       "      <th>topic_0</th>\n",
       "      <th>topic_1</th>\n",
       "      <th>topic_2</th>\n",
       "      <th>topic_3</th>\n",
       "      <th>topic_4</th>\n",
       "      <th>topic_5</th>\n",
       "      <th>topic_6</th>\n",
       "      <th>topic_7</th>\n",
       "      <th>topic_8</th>\n",
       "      <th>topic_9</th>\n",
       "      <th>...</th>\n",
       "      <th>topic_390</th>\n",
       "      <th>topic_391</th>\n",
       "      <th>topic_392</th>\n",
       "      <th>topic_393</th>\n",
       "      <th>topic_394</th>\n",
       "      <th>topic_395</th>\n",
       "      <th>topic_396</th>\n",
       "      <th>topic_397</th>\n",
       "      <th>topic_398</th>\n",
       "      <th>topic_399</th>\n",
       "    </tr>\n",
       "  </thead>\n",
       "  <tbody>\n",
       "    <tr>\n",
       "      <th>aa</th>\n",
       "      <td>2.909020e-04</td>\n",
       "      <td>0</td>\n",
       "      <td>1.841270e-06</td>\n",
       "      <td>1.522560e-08</td>\n",
       "      <td>2.621054e-06</td>\n",
       "      <td>0.000905</td>\n",
       "      <td>0.006175</td>\n",
       "      <td>2.842573e-14</td>\n",
       "      <td>0</td>\n",
       "      <td>0.000006</td>\n",
       "      <td>...</td>\n",
       "      <td>0.000493</td>\n",
       "      <td>2.727059e-11</td>\n",
       "      <td>1.772150e-04</td>\n",
       "      <td>1.966651e-03</td>\n",
       "      <td>1.043606e-04</td>\n",
       "      <td>0.004844</td>\n",
       "      <td>2.866449e-12</td>\n",
       "      <td>0</td>\n",
       "      <td>4.686652e-12</td>\n",
       "      <td>0.000658</td>\n",
       "    </tr>\n",
       "    <tr>\n",
       "      <th>aaa</th>\n",
       "      <td>1.969261e-09</td>\n",
       "      <td>0</td>\n",
       "      <td>2.027035e-15</td>\n",
       "      <td>1.080729e-07</td>\n",
       "      <td>6.535863e-15</td>\n",
       "      <td>0.000463</td>\n",
       "      <td>0.003764</td>\n",
       "      <td>0.000000e+00</td>\n",
       "      <td>0</td>\n",
       "      <td>0.000000</td>\n",
       "      <td>...</td>\n",
       "      <td>0.000000</td>\n",
       "      <td>6.311331e-14</td>\n",
       "      <td>3.407772e-13</td>\n",
       "      <td>6.362937e-09</td>\n",
       "      <td>7.465723e-09</td>\n",
       "      <td>0.000002</td>\n",
       "      <td>0.000000e+00</td>\n",
       "      <td>0</td>\n",
       "      <td>3.060971e-10</td>\n",
       "      <td>0.000000</td>\n",
       "    </tr>\n",
       "    <tr>\n",
       "      <th>aaaa</th>\n",
       "      <td>0.000000e+00</td>\n",
       "      <td>0</td>\n",
       "      <td>0.000000e+00</td>\n",
       "      <td>0.000000e+00</td>\n",
       "      <td>0.000000e+00</td>\n",
       "      <td>0.000000</td>\n",
       "      <td>0.000000</td>\n",
       "      <td>0.000000e+00</td>\n",
       "      <td>0</td>\n",
       "      <td>0.000000</td>\n",
       "      <td>...</td>\n",
       "      <td>0.000000</td>\n",
       "      <td>0.000000e+00</td>\n",
       "      <td>0.000000e+00</td>\n",
       "      <td>0.000000e+00</td>\n",
       "      <td>0.000000e+00</td>\n",
       "      <td>0.000000</td>\n",
       "      <td>0.000000e+00</td>\n",
       "      <td>0</td>\n",
       "      <td>0.000000e+00</td>\n",
       "      <td>0.000000</td>\n",
       "    </tr>\n",
       "    <tr>\n",
       "      <th>aaaaa</th>\n",
       "      <td>0.000000e+00</td>\n",
       "      <td>0</td>\n",
       "      <td>0.000000e+00</td>\n",
       "      <td>0.000000e+00</td>\n",
       "      <td>0.000000e+00</td>\n",
       "      <td>0.000000</td>\n",
       "      <td>0.000000</td>\n",
       "      <td>0.000000e+00</td>\n",
       "      <td>0</td>\n",
       "      <td>0.000000</td>\n",
       "      <td>...</td>\n",
       "      <td>0.000000</td>\n",
       "      <td>0.000000e+00</td>\n",
       "      <td>0.000000e+00</td>\n",
       "      <td>0.000000e+00</td>\n",
       "      <td>1.588000e-12</td>\n",
       "      <td>0.000000</td>\n",
       "      <td>0.000000e+00</td>\n",
       "      <td>0</td>\n",
       "      <td>0.000000e+00</td>\n",
       "      <td>0.000000</td>\n",
       "    </tr>\n",
       "    <tr>\n",
       "      <th>aaaaaa</th>\n",
       "      <td>0.000000e+00</td>\n",
       "      <td>0</td>\n",
       "      <td>0.000000e+00</td>\n",
       "      <td>0.000000e+00</td>\n",
       "      <td>0.000000e+00</td>\n",
       "      <td>0.000000</td>\n",
       "      <td>0.000000</td>\n",
       "      <td>1.696615e-14</td>\n",
       "      <td>0</td>\n",
       "      <td>0.000000</td>\n",
       "      <td>...</td>\n",
       "      <td>0.000000</td>\n",
       "      <td>0.000000e+00</td>\n",
       "      <td>0.000000e+00</td>\n",
       "      <td>0.000000e+00</td>\n",
       "      <td>0.000000e+00</td>\n",
       "      <td>0.000000</td>\n",
       "      <td>0.000000e+00</td>\n",
       "      <td>0</td>\n",
       "      <td>0.000000e+00</td>\n",
       "      <td>0.000000</td>\n",
       "    </tr>\n",
       "  </tbody>\n",
       "</table>\n",
       "<p>5 rows × 400 columns</p>\n",
       "</div>"
      ],
      "text/plain": [
       "             topic_0  topic_1       topic_2       topic_3       topic_4  \\\n",
       "aa      2.909020e-04        0  1.841270e-06  1.522560e-08  2.621054e-06   \n",
       "aaa     1.969261e-09        0  2.027035e-15  1.080729e-07  6.535863e-15   \n",
       "aaaa    0.000000e+00        0  0.000000e+00  0.000000e+00  0.000000e+00   \n",
       "aaaaa   0.000000e+00        0  0.000000e+00  0.000000e+00  0.000000e+00   \n",
       "aaaaaa  0.000000e+00        0  0.000000e+00  0.000000e+00  0.000000e+00   \n",
       "\n",
       "         topic_5   topic_6       topic_7  topic_8   topic_9    ...      \\\n",
       "aa      0.000905  0.006175  2.842573e-14        0  0.000006    ...       \n",
       "aaa     0.000463  0.003764  0.000000e+00        0  0.000000    ...       \n",
       "aaaa    0.000000  0.000000  0.000000e+00        0  0.000000    ...       \n",
       "aaaaa   0.000000  0.000000  0.000000e+00        0  0.000000    ...       \n",
       "aaaaaa  0.000000  0.000000  1.696615e-14        0  0.000000    ...       \n",
       "\n",
       "        topic_390     topic_391     topic_392     topic_393     topic_394  \\\n",
       "aa       0.000493  2.727059e-11  1.772150e-04  1.966651e-03  1.043606e-04   \n",
       "aaa      0.000000  6.311331e-14  3.407772e-13  6.362937e-09  7.465723e-09   \n",
       "aaaa     0.000000  0.000000e+00  0.000000e+00  0.000000e+00  0.000000e+00   \n",
       "aaaaa    0.000000  0.000000e+00  0.000000e+00  0.000000e+00  1.588000e-12   \n",
       "aaaaaa   0.000000  0.000000e+00  0.000000e+00  0.000000e+00  0.000000e+00   \n",
       "\n",
       "        topic_395     topic_396  topic_397     topic_398  topic_399  \n",
       "aa       0.004844  2.866449e-12          0  4.686652e-12   0.000658  \n",
       "aaa      0.000002  0.000000e+00          0  3.060971e-10   0.000000  \n",
       "aaaa     0.000000  0.000000e+00          0  0.000000e+00   0.000000  \n",
       "aaaaa    0.000000  0.000000e+00          0  0.000000e+00   0.000000  \n",
       "aaaaaa   0.000000  0.000000e+00          0  0.000000e+00   0.000000  \n",
       "\n",
       "[5 rows x 400 columns]"
      ]
     },
     "execution_count": 93,
     "metadata": {},
     "output_type": "execute_result"
    }
   ],
   "source": [
    "green_phibayes.head()"
   ]
  },
  {
   "cell_type": "code",
   "execution_count": 94,
   "metadata": {
    "collapsed": false
   },
   "outputs": [],
   "source": [
    "report = similarity_report(testsets, [('phibayes', green_phibayes)], 'green')"
   ]
  },
  {
   "cell_type": "code",
   "execution_count": 95,
   "metadata": {
    "collapsed": false
   },
   "outputs": [
    {
     "data": {
      "text/html": [
       "<div>\n",
       "<table border=\"1\" class=\"dataframe\">\n",
       "  <thead>\n",
       "    <tr style=\"text-align: right;\">\n",
       "      <th></th>\n",
       "      <th>ws353_sim</th>\n",
       "      <th>ws353_rel</th>\n",
       "      <th>ws353</th>\n",
       "      <th>simlex999</th>\n",
       "      <th>bruni_men</th>\n",
       "      <th>luong_rare</th>\n",
       "      <th>mturk</th>\n",
       "    </tr>\n",
       "  </thead>\n",
       "  <tbody>\n",
       "    <tr>\n",
       "      <th>green_phibayes_dot</th>\n",
       "      <td>0.722974</td>\n",
       "      <td>0.674914</td>\n",
       "      <td>0.681693</td>\n",
       "      <td>0.265164</td>\n",
       "      <td>0.672023</td>\n",
       "      <td>0.367684</td>\n",
       "      <td>0.642016</td>\n",
       "    </tr>\n",
       "  </tbody>\n",
       "</table>\n",
       "</div>"
      ],
      "text/plain": [
       "                    ws353_sim  ws353_rel     ws353  simlex999  bruni_men  \\\n",
       "green_phibayes_dot   0.722974   0.674914  0.681693   0.265164   0.672023   \n",
       "\n",
       "                    luong_rare     mturk  \n",
       "green_phibayes_dot    0.367684  0.642016  "
      ]
     },
     "execution_count": 95,
     "metadata": {},
     "output_type": "execute_result"
    }
   ],
   "source": [
    "report"
   ]
  },
  {
   "cell_type": "markdown",
   "metadata": {},
   "source": [
    "## Sparsity experiment (should not be in this notebook)"
   ]
  },
  {
   "cell_type": "code",
   "execution_count": 96,
   "metadata": {
    "collapsed": true
   },
   "outputs": [],
   "source": [
    "def get_sparsity(df):\n",
    "    return (df == 0).sum().sum() * 1.0 / df.size"
   ]
  },
  {
   "cell_type": "code",
   "execution_count": 97,
   "metadata": {
    "collapsed": false
   },
   "outputs": [
    {
     "data": {
      "text/plain": [
       "0.81911710734214682"
      ]
     },
     "execution_count": 97,
     "metadata": {},
     "output_type": "execute_result"
    }
   ],
   "source": [
    "get_sparsity(green_phibayes)"
   ]
  },
  {
   "cell_type": "code",
   "execution_count": 211,
   "metadata": {
    "collapsed": true
   },
   "outputs": [],
   "source": [
    "# Naively increase the sparsity\n",
    "\n",
    "sparse = green_phibayes.copy()\n",
    "sparse[sparse < 0.01] = 0 "
   ]
  },
  {
   "cell_type": "code",
   "execution_count": 212,
   "metadata": {
    "collapsed": false
   },
   "outputs": [
    {
     "data": {
      "text/html": [
       "<div>\n",
       "<table border=\"1\" class=\"dataframe\">\n",
       "  <thead>\n",
       "    <tr style=\"text-align: right;\">\n",
       "      <th></th>\n",
       "      <th>ws353_sim</th>\n",
       "      <th>ws353_rel</th>\n",
       "      <th>ws353</th>\n",
       "      <th>simlex999</th>\n",
       "      <th>bruni_men</th>\n",
       "      <th>luong_rare</th>\n",
       "      <th>mturk</th>\n",
       "    </tr>\n",
       "  </thead>\n",
       "  <tbody>\n",
       "    <tr>\n",
       "      <th>green_sparse_dot</th>\n",
       "      <td>0.730168</td>\n",
       "      <td>0.668927</td>\n",
       "      <td>0.678768</td>\n",
       "      <td>0.262137</td>\n",
       "      <td>0.661448</td>\n",
       "      <td>0.362753</td>\n",
       "      <td>0.628011</td>\n",
       "    </tr>\n",
       "  </tbody>\n",
       "</table>\n",
       "</div>"
      ],
      "text/plain": [
       "                  ws353_sim  ws353_rel     ws353  simlex999  bruni_men  \\\n",
       "green_sparse_dot   0.730168   0.668927  0.678768   0.262137   0.661448   \n",
       "\n",
       "                  luong_rare     mturk  \n",
       "green_sparse_dot    0.362753  0.628011  "
      ]
     },
     "execution_count": 212,
     "metadata": {},
     "output_type": "execute_result"
    }
   ],
   "source": [
    "report = similarity_report(testsets, [('sparse', sparse)], 'green')\n",
    "report"
   ]
  },
  {
   "cell_type": "code",
   "execution_count": 213,
   "metadata": {
    "collapsed": false
   },
   "outputs": [
    {
     "data": {
      "text/plain": [
       "0.97798895977919553"
      ]
     },
     "execution_count": 213,
     "metadata": {},
     "output_type": "execute_result"
    }
   ],
   "source": [
    "get_sparsity(sparse)"
   ]
  },
  {
   "cell_type": "code",
   "execution_count": 45,
   "metadata": {
    "collapsed": false
   },
   "outputs": [
    {
     "data": {
      "text/plain": [
       "23"
      ]
     },
     "execution_count": 45,
     "metadata": {},
     "output_type": "execute_result"
    }
   ],
   "source": [
    "(sparse.loc['at'] != 0).sum()"
   ]
  },
  {
   "cell_type": "code",
   "execution_count": 41,
   "metadata": {
    "collapsed": false
   },
   "outputs": [
    {
     "data": {
      "text/plain": [
       "4"
      ]
     },
     "execution_count": 41,
     "metadata": {},
     "output_type": "execute_result"
    }
   ],
   "source": [
    "(sparse.loc['algebra'] != 0).sum()"
   ]
  },
  {
   "cell_type": "code",
   "execution_count": 215,
   "metadata": {
    "collapsed": true
   },
   "outputs": [],
   "source": [
    "sparse['nonzeros'] = (sparse != 0).sum(axis=1)"
   ]
  },
  {
   "cell_type": "code",
   "execution_count": null,
   "metadata": {
    "collapsed": true
   },
   "outputs": [],
   "source": [
    "vocab = []\n",
    "total = 0\n",
    "\n",
    "with codecs.open(\"./counts_win5.words.vocab\", 'r') as fin:\n",
    "    for line in fin:\n",
    "        s = line.split()\n",
    "        vocab.append((s[0], float(s[1])))\n",
    "        total += float(s[1])\n",
    "        \n",
    "frequencies = pd.DataFrame(vocab)\n",
    "frequencies.columns = ['id', 'value']\n",
    "frequencies['value'] = frequencies.value / frequencies.value.sum()\n",
    "frequencies.set_index('id', inplace=True)\n",
    "\n",
    "# Add the frequency column\n",
    "sparse['freq'] = frequencies.value"
   ]
  },
  {
   "cell_type": "code",
   "execution_count": 216,
   "metadata": {
    "collapsed": false
   },
   "outputs": [
    {
     "data": {
      "text/plain": [
       "<matplotlib.axes.AxesSubplot at 0x122888890>"
      ]
     },
     "execution_count": 216,
     "metadata": {},
     "output_type": "execute_result"
    },
    {
     "data": {
      "image/png": "[encoded data removed]",
      "text/plain": [
       "<matplotlib.figure.Figure at 0x1228db8d0>"
      ]
     },
     "metadata": {},
     "output_type": "display_data"
    }
   ],
   "source": [
    "sparse['nonzeros'].hist(bins=100)"
   ]
  },
  {
   "cell_type": "code",
   "execution_count": 238,
   "metadata": {
    "collapsed": false
   },
   "outputs": [
    {
     "data": {
      "text/plain": [
       "<matplotlib.axes.AxesSubplot at 0x1206dbdd0>"
      ]
     },
     "execution_count": 238,
     "metadata": {},
     "output_type": "execute_result"
    },
    {
     "data": {
      "image/png": "[encoded data removed]",
      "text/plain": [
       "<matplotlib.figure.Figure at 0x12451ced0>"
      ]
     },
     "metadata": {},
     "output_type": "display_data"
    }
   ],
   "source": [
    "sparse[sparse.freq > 0.0001]['nonzeros'].hist(bins=100)"
   ]
  },
  {
   "cell_type": "code",
   "execution_count": 253,
   "metadata": {
    "collapsed": false
   },
   "outputs": [],
   "source": [
    "data = sparse.ix[:, ['nonzeros', 'freq']]"
   ]
  },
  {
   "cell_type": "code",
   "execution_count": 297,
   "metadata": {
    "collapsed": false
   },
   "outputs": [
    {
     "data": {
      "image/png": "[encoded data removed]",
      "text/plain": [
       "<matplotlib.figure.Figure at 0x127265050>"
      ]
     },
     "metadata": {},
     "output_type": "display_data"
    }
   ],
   "source": [
    "# Plot sparsity for x and log-freqiency for y\n",
    "\n",
    "plt.scatter(data.nonzeros, np.log(data.freq))\n",
    "plt.xlabel('Number of non-zeros in the embedding')\n",
    "plt.ylabel('Log-probability of a word')\n",
    "plt.show()"
   ]
  },
  {
   "cell_type": "code",
   "execution_count": 257,
   "metadata": {
    "collapsed": false
   },
   "outputs": [],
   "source": [
    "sorted_data = data.sort_values(by='nonzeros', ascending=False)"
   ]
  },
  {
   "cell_type": "code",
   "execution_count": 266,
   "metadata": {
    "collapsed": false
   },
   "outputs": [
    {
     "data": {
      "text/html": [
       "<div>\n",
       "<table border=\"1\" class=\"dataframe\">\n",
       "  <thead>\n",
       "    <tr style=\"text-align: right;\">\n",
       "      <th></th>\n",
       "      <th>nonzeros</th>\n",
       "      <th>freq</th>\n",
       "    </tr>\n",
       "  </thead>\n",
       "  <tbody>\n",
       "    <tr>\n",
       "      <th>direct</th>\n",
       "      <td>36</td>\n",
       "      <td>0.000104</td>\n",
       "    </tr>\n",
       "    <tr>\n",
       "      <th>nevertheless</th>\n",
       "      <td>33</td>\n",
       "      <td>0.000046</td>\n",
       "    </tr>\n",
       "    <tr>\n",
       "      <th>whole</th>\n",
       "      <td>33</td>\n",
       "      <td>0.000101</td>\n",
       "    </tr>\n",
       "    <tr>\n",
       "      <th>named</th>\n",
       "      <td>33</td>\n",
       "      <td>0.000212</td>\n",
       "    </tr>\n",
       "    <tr>\n",
       "      <th>hence</th>\n",
       "      <td>32</td>\n",
       "      <td>0.000060</td>\n",
       "    </tr>\n",
       "    <tr>\n",
       "      <th>extended</th>\n",
       "      <td>32</td>\n",
       "      <td>0.000081</td>\n",
       "    </tr>\n",
       "    <tr>\n",
       "      <th>simultaneously</th>\n",
       "      <td>32</td>\n",
       "      <td>0.000039</td>\n",
       "    </tr>\n",
       "    <tr>\n",
       "      <th>person</th>\n",
       "      <td>32</td>\n",
       "      <td>0.000143</td>\n",
       "    </tr>\n",
       "    <tr>\n",
       "      <th>producing</th>\n",
       "      <td>32</td>\n",
       "      <td>0.000071</td>\n",
       "    </tr>\n",
       "    <tr>\n",
       "      <th>occasionally</th>\n",
       "      <td>32</td>\n",
       "      <td>0.000058</td>\n",
       "    </tr>\n",
       "    <tr>\n",
       "      <th>replacing</th>\n",
       "      <td>31</td>\n",
       "      <td>0.000049</td>\n",
       "    </tr>\n",
       "    <tr>\n",
       "      <th>ground</th>\n",
       "      <td>31</td>\n",
       "      <td>0.000140</td>\n",
       "    </tr>\n",
       "    <tr>\n",
       "      <th>extra</th>\n",
       "      <td>31</td>\n",
       "      <td>0.000082</td>\n",
       "    </tr>\n",
       "    <tr>\n",
       "      <th>large</th>\n",
       "      <td>31</td>\n",
       "      <td>0.000237</td>\n",
       "    </tr>\n",
       "    <tr>\n",
       "      <th>drawn</th>\n",
       "      <td>31</td>\n",
       "      <td>0.000060</td>\n",
       "    </tr>\n",
       "    <tr>\n",
       "      <th>nonetheless</th>\n",
       "      <td>31</td>\n",
       "      <td>0.000028</td>\n",
       "    </tr>\n",
       "    <tr>\n",
       "      <th>moreover</th>\n",
       "      <td>31</td>\n",
       "      <td>0.000036</td>\n",
       "    </tr>\n",
       "    <tr>\n",
       "      <th>forms</th>\n",
       "      <td>30</td>\n",
       "      <td>0.000109</td>\n",
       "    </tr>\n",
       "    <tr>\n",
       "      <th>consequently</th>\n",
       "      <td>30</td>\n",
       "      <td>0.000034</td>\n",
       "    </tr>\n",
       "    <tr>\n",
       "      <th>proper</th>\n",
       "      <td>30</td>\n",
       "      <td>0.000071</td>\n",
       "    </tr>\n",
       "  </tbody>\n",
       "</table>\n",
       "</div>"
      ],
      "text/plain": [
       "                nonzeros      freq\n",
       "direct                36  0.000104\n",
       "nevertheless          33  0.000046\n",
       "whole                 33  0.000101\n",
       "named                 33  0.000212\n",
       "hence                 32  0.000060\n",
       "extended              32  0.000081\n",
       "simultaneously        32  0.000039\n",
       "person                32  0.000143\n",
       "producing             32  0.000071\n",
       "occasionally          32  0.000058\n",
       "replacing             31  0.000049\n",
       "ground                31  0.000140\n",
       "extra                 31  0.000082\n",
       "large                 31  0.000237\n",
       "drawn                 31  0.000060\n",
       "nonetheless           31  0.000028\n",
       "moreover              31  0.000036\n",
       "forms                 30  0.000109\n",
       "consequently          30  0.000034\n",
       "proper                30  0.000071"
      ]
     },
     "execution_count": 266,
     "metadata": {},
     "output_type": "execute_result"
    }
   ],
   "source": [
    "sorted_data[:20]"
   ]
  },
  {
   "cell_type": "code",
   "execution_count": 301,
   "metadata": {
    "collapsed": true
   },
   "outputs": [],
   "source": [
    "data['logfreq'] = data.freq.apply(np.log)"
   ]
  },
  {
   "cell_type": "code",
   "execution_count": 304,
   "metadata": {
    "collapsed": false
   },
   "outputs": [
    {
     "data": {
      "image/png": "[encoded data removed]",
      "text/plain": [
       "<matplotlib.figure.Figure at 0x16bc838d0>"
      ]
     },
     "metadata": {},
     "output_type": "display_data"
    }
   ],
   "source": [
    "f = data.groupby('nonzeros').logfreq.mean().plot(title='Mean log-probability')"
   ]
  },
  {
   "cell_type": "code",
   "execution_count": 307,
   "metadata": {
    "collapsed": false
   },
   "outputs": [
    {
     "data": {
      "text/plain": [
       "<matplotlib.axes.AxesSubplot at 0x1679941d0>"
      ]
     },
     "execution_count": 307,
     "metadata": {},
     "output_type": "execute_result"
    },
    {
     "data": {
      "image/png": "[encoded data removed]",
      "text/plain": [
       "<matplotlib.figure.Figure at 0x169657cd0>"
      ]
     },
     "metadata": {},
     "output_type": "display_data"
    }
   ],
   "source": [
    "sparse[sparse.nonzeros == 5]['freq'].hist(bins=100)"
   ]
  },
  {
   "cell_type": "code",
   "execution_count": 308,
   "metadata": {
    "collapsed": false
   },
   "outputs": [
    {
     "data": {
      "text/plain": [
       "<matplotlib.axes.AxesSubplot at 0x167994210>"
      ]
     },
     "execution_count": 308,
     "metadata": {},
     "output_type": "execute_result"
    },
    {
     "data": {
      "image/png": "[encoded data removed]",
      "text/plain": [
       "<matplotlib.figure.Figure at 0x168154250>"
      ]
     },
     "metadata": {},
     "output_type": "display_data"
    }
   ],
   "source": [
    "sparse[sparse.nonzeros == 25]['freq'].hist(bins=100)"
   ]
  },
  {
   "cell_type": "code",
   "execution_count": 315,
   "metadata": {
    "collapsed": false
   },
   "outputs": [],
   "source": [
    "bank_topics = (sparse.ix['bank', :400])"
   ]
  },
  {
   "cell_type": "code",
   "execution_count": 316,
   "metadata": {
    "collapsed": false
   },
   "outputs": [
    {
     "data": {
      "text/plain": [
       "'topic_280'"
      ]
     },
     "execution_count": 316,
     "metadata": {},
     "output_type": "execute_result"
    }
   ],
   "source": [
    "bank_topics.argmax()"
   ]
  },
  {
   "cell_type": "code",
   "execution_count": 327,
   "metadata": {
    "collapsed": false
   },
   "outputs": [
    {
     "data": {
      "text/plain": [
       "topic_280    0.262086\n",
       "topic_199    0.115313\n",
       "topic_350    0.062059\n",
       "topic_89     0.034289\n",
       "topic_175    0.028594\n",
       "Name: bank, dtype: float64"
      ]
     },
     "execution_count": 327,
     "metadata": {},
     "output_type": "execute_result"
    }
   ],
   "source": [
    "bank_topics.sort_values(ascending=False)[:5]"
   ]
  },
  {
   "cell_type": "code",
   "execution_count": 329,
   "metadata": {
    "collapsed": false
   },
   "outputs": [
    {
     "data": {
      "text/plain": [
       "wipro          0.907730\n",
       "nyse           0.898632\n",
       "citigroup      0.894214\n",
       "icici          0.877510\n",
       "buyouts        0.858424\n",
       "citibank       0.832623\n",
       "cognizant      0.825587\n",
       "financials     0.815430\n",
       "divestiture    0.807651\n",
       "hsbc           0.791194\n",
       "Name: topic_280, dtype: float64"
      ]
     },
     "execution_count": 329,
     "metadata": {},
     "output_type": "execute_result"
    }
   ],
   "source": [
    "sparse['topic_280'].sort_values(ascending=False)[:10] # названия крупных банков"
   ]
  },
  {
   "cell_type": "code",
   "execution_count": 330,
   "metadata": {
    "collapsed": false
   },
   "outputs": [
    {
     "data": {
      "text/plain": [
       "desde        0.985469\n",
       "palabra      0.983481\n",
       "otros        0.979942\n",
       "cosas        0.979380\n",
       "porvenir     0.973555\n",
       "tiempos      0.973312\n",
       "nuevos       0.965437\n",
       "distrital    0.964527\n",
       "mujer        0.962286\n",
       "mismo        0.961444\n",
       "Name: topic_119, dtype: float64"
      ]
     },
     "execution_count": 330,
     "metadata": {},
     "output_type": "execute_result"
    }
   ],
   "source": [
    "sparse['topic_119'].sort_values(ascending=False)[:10] # почему-то испанский"
   ]
  },
  {
   "cell_type": "code",
   "execution_count": 333,
   "metadata": {
    "collapsed": false
   },
   "outputs": [
    {
     "data": {
      "text/plain": [
       "intracoastal    0.999605\n",
       "nescopeck       0.994311\n",
       "catawissa       0.980456\n",
       "mahanoy         0.971782\n",
       "tunkhannock     0.970600\n",
       "umpqua          0.940420\n",
       "waterway        0.919040\n",
       "tributaries     0.898422\n",
       "shamokin        0.893938\n",
       "headwaters      0.857023\n",
       "Name: topic_350, dtype: float64"
      ]
     },
     "execution_count": 333,
     "metadata": {},
     "output_type": "execute_result"
    }
   ],
   "source": [
    "sparse['topic_350'].sort_values(ascending=False)[:10] # география и вода"
   ]
  },
  {
   "cell_type": "code",
   "execution_count": 335,
   "metadata": {
    "collapsed": false
   },
   "outputs": [
    {
     "data": {
      "text/plain": [
       "ecosoc             0.989727\n",
       "nongovernmental    0.982560\n",
       "dfid               0.951307\n",
       "chairing           0.910218\n",
       "unfpa              0.880272\n",
       "upu                0.860525\n",
       "ifad               0.860021\n",
       "unctad             0.847153\n",
       "undp               0.845530\n",
       "ordinating         0.840026\n",
       "Name: topic_89, dtype: float64"
      ]
     },
     "execution_count": 335,
     "metadata": {},
     "output_type": "execute_result"
    }
   ],
   "source": [
    "sparse['topic_89'].sort_values(ascending=False)[:10]"
   ]
  },
  {
   "cell_type": "code",
   "execution_count": 336,
   "metadata": {
    "collapsed": false
   },
   "outputs": [
    {
     "data": {
      "text/plain": [
       "lumbering        0.866337\n",
       "importers        0.857699\n",
       "commodity        0.792064\n",
       "commodities      0.748133\n",
       "cftc             0.693091\n",
       "mechanisation    0.681049\n",
       "exporters        0.678140\n",
       "deregulated      0.677911\n",
       "smes             0.674914\n",
       "agribusiness     0.670193\n",
       "Name: topic_175, dtype: float64"
      ]
     },
     "execution_count": 336,
     "metadata": {},
     "output_type": "execute_result"
    }
   ],
   "source": [
    "sparse['topic_175'].sort_values(ascending=False)[:10]"
   ]
  },
  {
   "cell_type": "code",
   "execution_count": null,
   "metadata": {
    "collapsed": true
   },
   "outputs": [],
   "source": []
  }
 ],
 "metadata": {
  "kernelspec": {
   "display_name": "Python 2",
   "language": "python",
   "name": "python2"
  },
  "language_info": {
   "codemirror_mode": {
    "name": "ipython",
    "version": 2
   },
   "file_extension": ".py",
   "mimetype": "text/x-python",
   "name": "python",
   "nbconvert_exporter": "python",
   "pygments_lexer": "ipython2",
   "version": "2.7.10"
  }
 },
 "nbformat": 4,
 "nbformat_minor": 0
}
